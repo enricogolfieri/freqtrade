{
 "cells": [
  {
   "cell_type": "markdown",
   "metadata": {},
   "source": [
    "### Display the trade details\n",
    "\n",
    "* Note that using `data.head()` would also work, however most indicators have some \"startup\" data at the top of the dataframe.\n",
    "* Some possible problems\n",
    "    * Columns with NaN values at the end of the dataframe\n",
    "    * Columns used in `crossed*()` functions with completely different units\n",
    "* Comparison with full backtest\n",
    "    * having 200 buy signals as output for one pair from `analyze_ticker()` does not necessarily mean that 200 trades will be made during backtesting.\n",
    "    * Assuming you use only one condition such as, `df['rsi'] < 30` as buy condition, this will generate multiple \"buy\" signals for each pair in sequence (until rsi returns > 29). The bot will only buy on the first of these signals (and also only if a trade-slot (\"max_open_trades\") is still available), or on one of the middle signals, as soon as a \"slot\" becomes available.  \n"
   ]
  },
  {
   "cell_type": "markdown",
   "metadata": {},
   "source": [
    "### Load backtest results to pandas dataframe\n",
    "\n",
    "Analyze a trades dataframe (also used below for plotting)"
   ]
  },
  {
   "cell_type": "code",
   "execution_count": 1,
   "metadata": {},
   "outputs": [
    {
     "name": "stdout",
     "output_type": "stream",
     "text": [
      "scraped files: 44, loaded 43\n",
      "============================\n",
      "Timeframe: 4h, TimeRange: 4h, TimeFrame Details: 5m\n",
      "============================\n",
      "pairs: ['AUDIO/USDT', 'AAVE/USDT', 'ALICE/USDT', 'ARPA/USDT', 'AVAX/USDT', 'ATOM/USDT', 'ANKR/USDT', 'AXS/USDT', 'ADA/USDT', 'ALGO/USDT', 'BTS/USDT', 'BAND/USDT', 'BEL/USDT', 'BTC/USDT', 'BLZ/USDT', 'BAT/USDT', 'CHR/USDT', 'C98/USDT', 'COTI/USDT', 'CHZ/USDT', 'COMP/USDT', 'CRV/USDT', 'CELO/USDT', 'DUSK/USDT', 'DOGE/USDT', 'DENT/USDT', 'DASH/USDT', 'DOT/USDT', 'DYDX/USDT', 'ENJ/USDT', 'EOS/USDT', 'ETH/USDT', 'ETC/USDT', 'ENS/USDT', 'EGLD/USDT', 'FIL/USDT', 'FTM/USDT', 'FLM/USDT', 'GRT/USDT', 'GALA/USDT', 'HBAR/USDT', 'HOT/USDT', 'IOTX/USDT', 'ICX/USDT', 'ICP/USDT', 'IOTA/USDT', 'IOST/USDT', 'KLAY/USDT', 'KAVA/USDT', 'KNC/USDT', 'KSM/USDT', 'LRC/USDT', 'LINA/USDT', 'LTC/USDT', 'LINK/USDT', 'MATIC/USDT', 'NEAR/USDT', 'MANA/USDT', 'MTL/USDT', 'NEO/USDT', 'ONT/USDT', 'OMG/USDT', 'OCEAN/USDT', 'OGN/USDT', 'ONE/USDT', 'RLC/USDT', 'RUNE/USDT', 'RVN/USDT', 'RSR/USDT', 'REEF/USDT', 'ROSE/USDT', 'SNX/USDT', 'SAND/USDT', 'SOL/USDT', 'SUSHI/USDT', 'SRM/USDT', 'SKL/USDT', 'SXP/USDT', 'STORJ/USDT', 'TRX/USDT', 'TOMO/USDT', 'TRB/USDT', 'TLM/USDT', 'THETA/USDT', 'UNI/USDT', 'UNFI/USDT', 'VET/USDT', 'YFI/USDT', 'ZIL/USDT', 'ZEN/USDT', 'ZRX/USDT', 'ZEC/USDT', 'WAVES/USDT', 'XRP/USDT', 'XLM/USDT', 'XTZ/USDT', 'XMR/USDT', 'XEM/USDT', 'QTUM/USDT', '1INCH/USDT']\n",
      "============================\n",
      "+---------------------------+--------+----------------------+----------------+---------------------+-----------------------+------------------+------------------+------+-------+--------+----------------------+------------------+\n",
      "|            key            | trades |      profit_sum      | profit_sum_pct |   profit_total_abs  |      profit_total     | profit_total_pct |   duration_avg   | wins | draws | losses | max_drawdown_account | max_drawdown_abs |\n",
      "+---------------------------+--------+----------------------+----------------+---------------------+-----------------------+------------------+------------------+------+-------+--------+----------------------+------------------+\n",
      "|        Strategy001        |  510   |  0.8338328199999994  |     83.38      |     80.27353376     |     0.08027353376     |       8.03       |     10:54:00     | 459  |   0   |   51   |  0.0946960790949104  |     105.605      |\n",
      "|            hlhb           |  401   |      1.98630961      |     198.63     |  219.57579639999997 |  0.21957579639999997  |      21.96       |  1 day, 3:59:00  | 338  |   23  |   40   | 0.04921901092411123  |      62.694      |\n",
      "|          Heracles         |  188   |      9.07974206      |     907.97     |    1317.38637355    |     1.31738637355     |      131.74      | 5 days, 19:38:00 | 120  |   55  |   13   | 0.11313234928393384  |     295.615      |\n",
      "|   ReinforcedSmoothScalp   |   19   | 0.014285720000000002 |      1.43      |  1.1677457400000002 | 0.0011677457400000005 |       0.12       |     4:25:00      |  16  |   0   |   3    | 0.022316659561722803 |      22.494      |\n",
      "|       SmoothOperator      |  141   |      -1.0929503      |     -109.3     | -115.62257108999998 |  -0.11562257108999996 |      -11.56      |  1 day, 4:09:00  |  43  |   0   |   98   | 0.17707150535822677  |      179.01      |\n",
      "|        Strategy005        |   25   |  0.6110705300000001  |     61.11      |  62.270088089999994 |  0.062270088089999995 |       6.23       |     6:05:00      |  25  |   0   |   0    |         0.0          |        0         |\n",
      "|    CombinedBinHAndCluc    |  477   |      3.30870245      |     330.87     |  356.0253893799999  |  0.35602538937999995  |       35.6       |     11:46:00     | 285  |   0   |  192   | 0.24549522340263596  |     317.053      |\n",
      "|        ClucMay72018       |  450   |  1.2989388499999996  |     129.89     |  136.27518356000002 |     0.13627518356     |      13.63       |     0:57:00      | 397  |   0   |   53   | 0.051835612309912626 |      61.941      |\n",
      "| ReinforcedAverageStrategy |   88   |      2.79043862      |     279.04     |  268.44613947000005 |  0.26844613947000007  |      26.84       | 2 days, 9:08:00  |  30  |   0   |   58   | 0.06900340977108609  |      89.93       |\n",
      "|     HourBasedStrategy     |  987   |  3.438347099999998   |     343.83     |  188.25064788999993 |  0.18825064788999993  |      18.83       |  1 day, 1:54:00  | 500  |  194  |  293   | 0.35712804416277283  |     526.798      |\n",
      "|        Strategy004        |   39   | 0.33818656999999996  |     33.82      |      33.9319895     |      0.0339319895     |       3.39       |     14:34:00     |  38  |   0   |   1    | 0.01008809999484766  |      10.128      |\n",
      "|    MACDStrategy_crossed   |   94   |  1.0339244500000004  |     103.39     |  107.53025130000002 |  0.10753025130000002  |      10.75       |     10:36:00     |  93  |   0   |   1    | 0.012283912737834695 |      13.774      |\n",
      "|          BbandRsi         |   76   |      2.41697025      |     241.7      |  247.4385115899999  |   0.2474385115899999  |      24.74       | 6 days, 8:47:00  |  55  |   0   |   21   | 0.08411519925888251  |     114.565      |\n",
      "+---------------------------+--------+----------------------+----------------+---------------------+-----------------------+------------------+------------------+------+-------+--------+----------------------+------------------+\n"
     ]
    }
   ],
   "source": [
    "from util import ProjectPath\n",
    "\n",
    "import sys\n",
    "import csv \n",
    "from freqtrade.data.btanalysis import load_backtest_data, load_backtest_stats\n",
    "from tabulate import tabulate\n",
    "import pandas as pd\n",
    "from prettytable import PrettyTable\n",
    "\n",
    "class BackTestResults:\n",
    "    def __init__(self):\n",
    "        self.all_results = dict()\n",
    "\n",
    "    def append(self):\n",
    "        return \n",
    "\n",
    "    def sort(self):\n",
    "        return \n",
    "    \n",
    "    def prettyPrint(self):\n",
    "        return \n",
    "\n",
    "    \n",
    "\n",
    "class Backtest:\n",
    "\n",
    "    @staticmethod\n",
    "    def strategy_comparison_fields():\n",
    "        return [\"key\",\"trades\",\"profit_sum\",\"profit_sum_pct\",\"profit_total_abs\",\"profit_total\",\"profit_total_pct\",\"duration_avg\",\"wins\",\"draws\",\"losses\",\"max_drawdown_account\",\"max_drawdown_abs\"]\n",
    "\n",
    "    def __init__(self,timerange,timeframe,timeframedet,pairs):\n",
    "        self.__timerange=timeframe\n",
    "        self.__timeframe=timeframe\n",
    "        self.__pairs = pairs\n",
    "        self.__timeframedet=timeframedet\n",
    "        self.__table= { k:[] for k in Backtest.strategy_comparison_fields()}\n",
    "\n",
    "    def iterate_by_column(self):\n",
    "        '''\n",
    "        key: backtest index (like total profit)\n",
    "        value: list of result for every strategy\n",
    "        '''\n",
    "        for data in self.__table:\n",
    "            yield data\n",
    "\n",
    "    def iterate_by_strategy_result_as_dict(self):\n",
    "        '''\n",
    "        list of dict\n",
    "        every dict is backtest format of one result \n",
    "        \n",
    "        '''\n",
    "        for i in range(len(list(self.__table[\"key\"]))):\n",
    "            result = {}\n",
    "            for k,v in self.__table.items():\n",
    "                result[k] = v[i]\n",
    "            \n",
    "            yield result \n",
    "\n",
    "    def iterate_by_strategy_result_as_list(self):\n",
    "        '''\n",
    "        list of list\n",
    "        every list is the strategy name followed by results for every comparison field\n",
    "        '''\n",
    "        for i in range(len(list(self.__table.keys()))):\n",
    "            row = []\n",
    "            for k,v in self.__table.items():\n",
    "                row.append(v[i])\n",
    "            yield row \n",
    "\n",
    "\n",
    "\n",
    "    def top_result(self):\n",
    "        return \n",
    "\n",
    "    def sort(self,index):\n",
    "        return\n",
    "\n",
    "    def pretty_print(self):\n",
    "        print(\"============================\")\n",
    "        print(f\"Timeframe: {self.__timeframe}, TimeRange: {self.__timerange}, TimeFrame Details: {self.__timeframedet}\")\n",
    "        print(\"============================\")\n",
    "        print(f\"pairs: {self.__pairs}\")\n",
    "        print(\"============================\")\n",
    "        pt = PrettyTable()\n",
    "        pt.field_names = list(self.__table.keys())\n",
    "\n",
    "        for row in self.iterate_by_strategy_result_as_list():\n",
    "            pt.add_row(row)\n",
    "\n",
    "        print(pt)\n",
    "\n",
    "    def save_as_csv(self,path):\n",
    "        '''\n",
    "        save backest as a csv  \n",
    "        '''\n",
    "        try:\n",
    "            with open(path, 'w') as csvfile:\n",
    "                writer = csv.DictWriter(csvfile, fieldnames=self.__table.keys())\n",
    "                writer.writeheader()\n",
    "\n",
    "                for row in self.iterate_by_strategy_result_as_dict():\n",
    "                    writer.writerow(row)\n",
    "\n",
    "        except IOError as e:\n",
    "            print(f\"Csv file error {e}\")\n",
    "        return     \n",
    "\n",
    "    def to_dataframe(self):\n",
    "        '''\n",
    "        convert to pandas.DataFrame\n",
    "        '''\n",
    "        return \n",
    "\n",
    "    def add_strategy_result(self,result_dataframe): #dataframe\n",
    "        \n",
    "        for k in Backtest.strategy_comparison_fields():\n",
    "            self.__table[k].append(result_dataframe[k])\n",
    "\n",
    "\n",
    "#load strategy\n",
    "def load_backtest(backtest_results_path):\n",
    "\n",
    "    def extract(stat,key):\n",
    "        strategy_name = stat[\"strategy_comparison\"][0]['key']\n",
    "        return stat['strategy'][strategy_name][key]\n",
    "\n",
    "    is_init = False\n",
    "    backtest =Backtest(0,0,0,\"\")\n",
    "    nloaded = 0\n",
    "    nfiles = 0\n",
    "    for filename in os.listdir(backtest_results_path):\n",
    "        if filename.endswith(\".json\") and not filename.endswith(\".meta.json\"):\n",
    "            nfiles = nfiles + 1\n",
    "            loaded_stats = load_backtest_stats(backtest_results_path.joinpath(filename))\n",
    "            if 'strategy_comparison' in loaded_stats:\n",
    "                nloaded = nloaded + 1\n",
    "                if not is_init:\n",
    "                    timeframe = extract(loaded_stats,'timeframe')\n",
    "                    timeframe_detail = extract(loaded_stats,'timeframe_detail')\n",
    "                    timerange = extract(loaded_stats,'timerange')\n",
    "                    pairs = extract(loaded_stats,'pairlist')\n",
    "\n",
    "                    backtest = Backtest(timerange,timeframe,timeframe_detail,pairs)\n",
    "                    is_init = True\n",
    "            \n",
    "                backtest.add_strategy_result(loaded_stats[\"strategy_comparison\"][0])\n",
    "\n",
    "    print(f\"scraped files: {nfiles}, loaded {nloaded}\")\n",
    "    return backtest\n",
    "\n",
    "\n",
    "pp = ProjectPath()\n",
    "\n",
    "# if backtest_dir points to a directory, it'll automatically load the last backtest file.\n",
    "test_name = \"uptrend_4h\"\n",
    "backtest = load_backtest(pp.backtest_results(test_name))\n",
    "backtest.save_as_csv(pp.backtest_results(test_name).joinpath(\"report.csv\"))\n",
    "backtest.pretty_print()\n"
   ]
  },
  {
   "cell_type": "code",
   "execution_count": 6,
   "metadata": {},
   "outputs": [
    {
     "ename": "NameError",
     "evalue": "name 'backtest_dir' is not defined",
     "output_type": "error",
     "traceback": [
      "\u001b[0;31m---------------------------------------------------------------------------\u001b[0m",
      "\u001b[0;31mNameError\u001b[0m                                 Traceback (most recent call last)",
      "\u001b[1;32m/Users/enrico.golfieri/repo/freqtrade/user_data/notebooks/strategy_analysis_example.ipynb Cell 4'\u001b[0m in \u001b[0;36m<cell line: 2>\u001b[0;34m()\u001b[0m\n\u001b[1;32m      <a href='vscode-notebook-cell:/Users/enrico.golfieri/repo/freqtrade/user_data/notebooks/strategy_analysis_example.ipynb#ch0000013?line=0'>1</a>\u001b[0m \u001b[39m# Load backtested trades as dataframe\u001b[39;00m\n\u001b[0;32m----> <a href='vscode-notebook-cell:/Users/enrico.golfieri/repo/freqtrade/user_data/notebooks/strategy_analysis_example.ipynb#ch0000013?line=1'>2</a>\u001b[0m trades \u001b[39m=\u001b[39m load_backtest_data(backtest_dir)\n\u001b[1;32m      <a href='vscode-notebook-cell:/Users/enrico.golfieri/repo/freqtrade/user_data/notebooks/strategy_analysis_example.ipynb#ch0000013?line=3'>4</a>\u001b[0m \u001b[39m# Show value-counts per pair\u001b[39;00m\n\u001b[1;32m      <a href='vscode-notebook-cell:/Users/enrico.golfieri/repo/freqtrade/user_data/notebooks/strategy_analysis_example.ipynb#ch0000013?line=4'>5</a>\u001b[0m trades\u001b[39m.\u001b[39mgroupby(\u001b[39m\"\u001b[39m\u001b[39mpair\u001b[39m\u001b[39m\"\u001b[39m)[\u001b[39m\"\u001b[39m\u001b[39mexit_reason\u001b[39m\u001b[39m\"\u001b[39m]\u001b[39m.\u001b[39mvalue_counts()\n",
      "\u001b[0;31mNameError\u001b[0m: name 'backtest_dir' is not defined"
     ]
    }
   ],
   "source": [
    "# Load backtested trades as dataframe\n",
    "trades = load_backtest_data(backtest_dir)\n",
    "\n",
    "# Show value-counts per pair\n",
    "trades.groupby(\"pair\")[\"exit_reason\"].value_counts()"
   ]
  },
  {
   "cell_type": "markdown",
   "metadata": {},
   "source": [
    "## Plotting daily profit / equity line"
   ]
  },
  {
   "cell_type": "code",
   "execution_count": null,
   "metadata": {},
   "outputs": [],
   "source": [
    "# Plotting equity line (starting with 0 on day 1 and adding daily profit for each backtested day)\n",
    "\n",
    "from freqtrade.configuration import Configuration\n",
    "from freqtrade.data.btanalysis import load_backtest_data, load_backtest_stats\n",
    "import plotly.express as px\n",
    "import pandas as pd\n",
    "\n",
    "# strategy = 'SampleStrategy'\n",
    "# config = Configuration.from_files([\"user_data/config.json\"])\n",
    "# backtest_dir = config[\"user_data_dir\"] / \"backtest_results\"\n",
    "\n",
    "stats = load_backtest_stats(backtest_dir)\n",
    "strategy_stats = stats['strategy'][strategy]\n",
    "\n",
    "dates = []\n",
    "profits = []\n",
    "for date_profit in strategy_stats['daily_profit']:\n",
    "    dates.append(date_profit[0])\n",
    "    profits.append(date_profit[1])\n",
    "\n",
    "equity = 0\n",
    "equity_daily = []\n",
    "for daily_profit in profits:\n",
    "    equity_daily.append(equity)\n",
    "    equity += float(daily_profit)\n",
    "\n",
    "\n",
    "df = pd.DataFrame({'dates': dates,'equity_daily': equity_daily})\n",
    "\n",
    "fig = px.line(df, x=\"dates\", y=\"equity_daily\")\n",
    "fig.show()\n"
   ]
  },
  {
   "cell_type": "markdown",
   "metadata": {},
   "source": [
    "### Load live trading results into a pandas dataframe\n",
    "\n",
    "In case you did already some trading and want to analyze your performance"
   ]
  },
  {
   "cell_type": "code",
   "execution_count": null,
   "metadata": {},
   "outputs": [],
   "source": [
    "from freqtrade.data.btanalysis import load_trades_from_db\n",
    "\n",
    "# Fetch trades from database\n",
    "trades = load_trades_from_db(\"sqlite:///tradesv3.sqlite\")\n",
    "\n",
    "# Display results\n",
    "trades.groupby(\"pair\")[\"exit_reason\"].value_counts()"
   ]
  },
  {
   "cell_type": "markdown",
   "metadata": {},
   "source": [
    "## Analyze the loaded trades for trade parallelism\n",
    "This can be useful to find the best `max_open_trades` parameter, when used with backtesting in conjunction with `--disable-max-market-positions`.\n",
    "\n",
    "`analyze_trade_parallelism()` returns a timeseries dataframe with an \"open_trades\" column, specifying the number of open trades for each candle."
   ]
  },
  {
   "cell_type": "code",
   "execution_count": null,
   "metadata": {},
   "outputs": [],
   "source": [
    "from freqtrade.data.btanalysis import analyze_trade_parallelism\n",
    "\n",
    "# Analyze the above\n",
    "parallel_trades = analyze_trade_parallelism(trades, '5m')\n",
    "\n",
    "parallel_trades.plot()"
   ]
  },
  {
   "cell_type": "markdown",
   "metadata": {},
   "source": [
    "## Plot results\n",
    "\n",
    "Freqtrade offers interactive plotting capabilities based on plotly."
   ]
  },
  {
   "cell_type": "code",
   "execution_count": null,
   "metadata": {},
   "outputs": [],
   "source": [
    "from freqtrade.plot.plotting import  generate_candlestick_graph\n",
    "# Limit graph period to keep plotly quick and reactive\n",
    "\n",
    "# Filter trades to one pair\n",
    "trades_red = trades.loc[trades['pair'] == pair]\n",
    "\n",
    "data_red = data['2019-06-01':'2019-06-10']\n",
    "# Generate candlestick graph\n",
    "graph = generate_candlestick_graph(pair=pair,\n",
    "                                   data=data_red,\n",
    "                                   trades=trades_red,\n",
    "                                   indicators1=['sma20', 'ema50', 'ema55'],\n",
    "                                   indicators2=['rsi', 'macd', 'macdsignal', 'macdhist']\n",
    "                                  )\n",
    "\n",
    "\n"
   ]
  },
  {
   "cell_type": "code",
   "execution_count": null,
   "metadata": {},
   "outputs": [],
   "source": [
    "# Show graph inline\n",
    "# graph.show()\n",
    "\n",
    "# Render graph in a seperate window\n",
    "graph.show(renderer=\"browser\")\n"
   ]
  },
  {
   "cell_type": "markdown",
   "metadata": {},
   "source": [
    "## Plot average profit per trade as distribution graph"
   ]
  },
  {
   "cell_type": "code",
   "execution_count": null,
   "metadata": {},
   "outputs": [],
   "source": [
    "import plotly.figure_factory as ff\n",
    "\n",
    "hist_data = [trades.profit_ratio]\n",
    "group_labels = ['profit_ratio']  # name of the dataset\n",
    "\n",
    "fig = ff.create_distplot(hist_data, group_labels, bin_size=0.01)\n",
    "fig.show()\n"
   ]
  },
  {
   "cell_type": "markdown",
   "metadata": {},
   "source": [
    "Feel free to submit an issue or Pull Request enhancing this document if you would like to share ideas on how to best analyze the data."
   ]
  }
 ],
 "metadata": {
  "file_extension": ".py",
  "interpreter": {
   "hash": "8dad364d4093082068695a8da31e2589527cb7cf1408ed7f02186c6b61a30e37"
  },
  "kernelspec": {
   "display_name": "Python 3.9.12 ('.env': venv)",
   "language": "python",
   "name": "python3"
  },
  "language_info": {
   "codemirror_mode": {
    "name": "ipython",
    "version": 3
   },
   "file_extension": ".py",
   "mimetype": "text/x-python",
   "name": "python",
   "nbconvert_exporter": "python",
   "pygments_lexer": "ipython3",
   "version": "3.9.12"
  },
  "mimetype": "text/x-python",
  "name": "python",
  "npconvert_exporter": "python",
  "pygments_lexer": "ipython3",
  "toc": {
   "base_numbering": 1,
   "nav_menu": {},
   "number_sections": true,
   "sideBar": true,
   "skip_h1_title": false,
   "title_cell": "Table of Contents",
   "title_sidebar": "Contents",
   "toc_cell": false,
   "toc_position": {},
   "toc_section_display": true,
   "toc_window_display": false
  },
  "varInspector": {
   "cols": {
    "lenName": 16,
    "lenType": 16,
    "lenVar": 40
   },
   "kernels_config": {
    "python": {
     "delete_cmd_postfix": "",
     "delete_cmd_prefix": "del ",
     "library": "var_list.py",
     "varRefreshCmd": "print(var_dic_list())"
    },
    "r": {
     "delete_cmd_postfix": ") ",
     "delete_cmd_prefix": "rm(",
     "library": "var_list.r",
     "varRefreshCmd": "cat(var_dic_list()) "
    }
   },
   "types_to_exclude": [
    "module",
    "function",
    "builtin_function_or_method",
    "instance",
    "_Feature"
   ],
   "window_display": false
  },
  "version": 3
 },
 "nbformat": 4,
 "nbformat_minor": 4
}
